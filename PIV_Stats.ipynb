{
 "cells": [
  {
   "cell_type": "markdown",
   "metadata": {},
   "source": [
    "# PIV Plot Stats Function"
   ]
  },
  {
   "cell_type": "code",
   "execution_count": 2,
   "metadata": {},
   "outputs": [],
   "source": [
    "def PIV_Stats(PIVfile,masked_PIVfile):\n",
    "       \n",
    "    \"\"\" PIV_Stats is a function used to calcualte the mean, \n",
    "    maximum, and time based standard deviation of the PIV fields\n",
    "    \n",
    "    INPUTS: \n",
    "        PIVfile: .nc PIV file\n",
    "        masked_PIVfile: .nc masked PIV file\"\"\"\n",
    "    #mean\n",
    "    mean = masked.where(masked>0).mean().values\n",
    "    #max \n",
    "    maxim = masked.where(masked>0).quantile(.99).values\n",
    "    #stdv\n",
    "    std = PIVfile.s.mean(dim=['x','y']).std().values\n",
    "    print('mean:', mean, 'max:', maxim, 'stdv:', std)\n",
    "    \n",
    "    ##Lava Area\n",
    "    \"\"\" lava_area calulates the area of the lava flow in meters squared\n",
    "     \n",
    "    INPUTS: \n",
    "    PIV_mask: Local path to masked_PIV file (.nc format)\n",
    "    \n",
    "    OUTPUTS: Area in m^2\n",
    "    \n",
    "    \"\"\"\n",
    "    PIV_masked = masked_PIVfile\n",
    "    #PIV_masked = xr.open_dataset(PIV_masked)\n",
    "    pixX = PIV_masked.x[1] - PIV_masked.x[0]\n",
    "    pixY = PIV_masked.y[1] - PIV_masked.y[0]\n",
    "    Area = PIV_masked.where(PIV_masked > 0).count()*pixX*pixY # m^2 \n",
    "    #print(round(float(Area.__xarray_dataarray_variable__.values),2), 'm^2')\n",
    "    AreaFlow = round(float(Area.values),1)\n",
    "    print('Flow Area:', AreaFlow, 'm^2')\n",
    "\n",
    "\n"
   ]
  },
  {
   "cell_type": "code",
   "execution_count": null,
   "metadata": {},
   "outputs": [],
   "source": []
  }
 ],
 "metadata": {
  "kernelspec": {
   "display_name": "Python 3",
   "language": "python",
   "name": "python3"
  },
  "language_info": {
   "codemirror_mode": {
    "name": "ipython",
    "version": 3
   },
   "file_extension": ".py",
   "mimetype": "text/x-python",
   "name": "python",
   "nbconvert_exporter": "python",
   "pygments_lexer": "ipython3",
   "version": "3.8.3"
  }
 },
 "nbformat": 4,
 "nbformat_minor": 4
}
